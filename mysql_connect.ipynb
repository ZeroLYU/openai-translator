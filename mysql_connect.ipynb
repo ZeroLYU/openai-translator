{
 "cells": [
  {
   "cell_type": "code",
   "execution_count": 3,
   "id": "c0ad2d01-3504-400a-9f3b-72bec4725597",
   "metadata": {},
   "outputs": [
    {
     "name": "stdout",
     "output_type": "stream",
     "text": [
      "Looking in indexes: https://pypi.tuna.tsinghua.edu.cn/simple\n",
      "Collecting pymysql\n",
      "  Using cached https://pypi.tuna.tsinghua.edu.cn/packages/e5/30/20467e39523d0cfc2b6227902d3687a16364307260c75e6a1cb4422b0c62/PyMySQL-1.1.0-py3-none-any.whl (44 kB)\n",
      "Installing collected packages: pymysql\n",
      "Successfully installed pymysql-1.1.0\n"
     ]
    }
   ],
   "source": [
    "!pip install pymysql"
   ]
  },
  {
   "cell_type": "code",
   "execution_count": 1,
   "id": "278855e9-227c-4e15-805d-4333c0a3505d",
   "metadata": {},
   "outputs": [],
   "source": [
    "import pymysql\n",
    "import pandas as pd\n",
    "import json\n",
    "# 连接 MySQL 数据库\n",
    "conn = pymysql.connect(\n",
    "    host='172.18.101.171',  # 主机名\n",
    "    port=3306,         # 端口号，MySQL默认为3306\n",
    "    user='ctrlsys',       # 用户名\n",
    "    password='ctrlsys20190330', # 密码\n",
    "    database='ctrlsys',   # 数据库名称\n",
    ")\n",
    "# 创建游标对象\n",
    "cursor = conn.cursor()\n"
   ]
  },
  {
   "cell_type": "code",
   "execution_count": 6,
   "id": "b697ebd6-88d5-4c25-bfd5-7fe45f6aed0a",
   "metadata": {},
   "outputs": [],
   "source": [
    "sql = \"SELECT id,type FROM t_customer_info_config\""
   ]
  },
  {
   "cell_type": "code",
   "execution_count": 7,
   "id": "962ba1e5-62d3-46ab-b0f1-19dd97fc3077",
   "metadata": {},
   "outputs": [
    {
     "data": {
      "text/plain": [
       "7"
      ]
     },
     "execution_count": 7,
     "metadata": {},
     "output_type": "execute_result"
    }
   ],
   "source": [
    "cursor.execute(sql)"
   ]
  },
  {
   "cell_type": "code",
   "execution_count": 8,
   "id": "ad0a6de9-5746-4dc4-8d96-2db0459d19ca",
   "metadata": {},
   "outputs": [],
   "source": [
    "result = cursor.fetchall()"
   ]
  },
  {
   "cell_type": "code",
   "execution_count": 9,
   "id": "76879e3f-f3bb-4b78-8766-d9d7e6f0086a",
   "metadata": {},
   "outputs": [
    {
     "data": {
      "text/plain": [
       "((1, '工商信息'),\n",
       " (2, '主要成员'),\n",
       " (3, '对外投资'),\n",
       " (4, '变更记录'),\n",
       " (5, '关联企业列表'),\n",
       " (6, '法律诉讼'),\n",
       " (7, '股东信息'))"
      ]
     },
     "execution_count": 9,
     "metadata": {},
     "output_type": "execute_result"
    }
   ],
   "source": [
    "result"
   ]
  },
  {
   "cell_type": "code",
   "execution_count": 10,
   "id": "b858e300-b30e-43f0-849e-a6ba05579766",
   "metadata": {},
   "outputs": [],
   "source": [
    "columns = [col[0] for col in cursor.description]\n",
    "col = [x.split('.')[-1] for x in columns]"
   ]
  },
  {
   "cell_type": "code",
   "execution_count": 11,
   "id": "8f1ecd4d-a21a-413f-8b4c-33e62d6138a7",
   "metadata": {},
   "outputs": [
    {
     "data": {
      "text/plain": [
       "['id', 'type']"
      ]
     },
     "execution_count": 11,
     "metadata": {},
     "output_type": "execute_result"
    }
   ],
   "source": [
    "columns"
   ]
  },
  {
   "cell_type": "code",
   "execution_count": 12,
   "id": "9ec42d8b-2675-46c1-9921-5843c1698842",
   "metadata": {},
   "outputs": [
    {
     "data": {
      "text/plain": [
       "['id', 'type']"
      ]
     },
     "execution_count": 12,
     "metadata": {},
     "output_type": "execute_result"
    }
   ],
   "source": [
    "col"
   ]
  },
  {
   "cell_type": "code",
   "execution_count": 13,
   "id": "7cb66859-486c-4b4c-ab92-9a8a465bf38c",
   "metadata": {},
   "outputs": [],
   "source": [
    "df = pd.DataFrame(result, columns=col)"
   ]
  },
  {
   "cell_type": "code",
   "execution_count": 14,
   "id": "49e62728-e027-4697-9ffa-891d794db347",
   "metadata": {},
   "outputs": [],
   "source": [
    "jsonArr = df.to_dict(orient='records')"
   ]
  },
  {
   "cell_type": "code",
   "execution_count": 15,
   "id": "b63a7dda-2644-4e82-a441-8df92e6b2162",
   "metadata": {},
   "outputs": [
    {
     "data": {
      "text/plain": [
       "[{'id': 1, 'type': '工商信息'},\n",
       " {'id': 2, 'type': '主要成员'},\n",
       " {'id': 3, 'type': '对外投资'},\n",
       " {'id': 4, 'type': '变更记录'},\n",
       " {'id': 5, 'type': '关联企业列表'},\n",
       " {'id': 6, 'type': '法律诉讼'},\n",
       " {'id': 7, 'type': '股东信息'}]"
      ]
     },
     "execution_count": 15,
     "metadata": {},
     "output_type": "execute_result"
    }
   ],
   "source": [
    "jsonArr"
   ]
  }
 ],
 "metadata": {
  "kernelspec": {
   "display_name": "Python 3 (ipykernel)",
   "language": "python",
   "name": "python3"
  },
  "language_info": {
   "codemirror_mode": {
    "name": "ipython",
    "version": 3
   },
   "file_extension": ".py",
   "mimetype": "text/x-python",
   "name": "python",
   "nbconvert_exporter": "python",
   "pygments_lexer": "ipython3",
   "version": "3.12.2"
  }
 },
 "nbformat": 4,
 "nbformat_minor": 5
}
