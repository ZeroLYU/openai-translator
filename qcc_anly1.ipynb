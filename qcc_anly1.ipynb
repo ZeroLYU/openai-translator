{
 "cells": [
  {
   "cell_type": "code",
   "execution_count": 1,
   "id": "0f4ba047-523b-4449-a2f0-b75070ed76dc",
   "metadata": {},
   "outputs": [],
   "source": [
    "json = {'统一社会信用代码 ': '91440000190336428Q 复制', '企业名称 ': '广发银行股份有限公司 复制\\n曾用名\\n广东发展银行股份有限公司（1988-07 至 2011-02）', '法定代表人 ': '王\\n\\t\\n王凯\\n 关联企业 6', '登记状态 ': '在营（开业）企业', '成立日期': '1988-07-08 复制', '注册资本 ': '2178986.0711万元人民币', '实缴资本 ': '-', '组织机构代码 ': '19033642-8 复制', '工商注册号 ': '440000000046541 复制', '纳税人识别号 ': '91440000190336428Q 复制', '企业类型': '股份有限公司（非上市、国有控股）', '营业期限 ': '1988-07-08 至无固定期限', '纳税人资质 ': '增值税一般纳税人', '人员规模': '1000-1999人', '参保人数\\n分支机构参保人数': '-\\n45361(2022年报) ', '核准日期 ': '2022-06-28 复制', '所属地区': '广东省广州市越秀区', '登记机关 ': '广东省市场监督管理局', '进出口企业代码 ': '4401190336428 复制', '国标行业 ': '货币金融服务（J66）', '英文名': 'China Guangfa Bank Co., Ltd.', '注册地址 ': '广州市越秀区东风东路713号附近企业 复制', '经营范围 ': '吸收公众存款；发放短期、中期和长期贷款；办理国内外结算；办理票据承兑与贴现；发行金融债券；代理发行、代理兑付、承销政府债券；买卖政府债券、金融债券等有价证券；从事同业拆借；提供信用证服务及担保；从事银行卡业务；代理收付款项及代理保险业务；提供保管箱服务；外汇存、贷款；外汇汇款；外币兑换；国际结算；结汇、售汇；同业外汇拆借；外汇票据的承兑和贴现；外汇借款；外汇担保；买卖和代理买卖股票以外的外币有价证券；发行和代理发行股票以外的外币有价证券；自营和代客外汇买卖；代理国外信用卡的发行及付款业务；离岸金融业务；资信调查、咨询、见证业务；经中国银监会等批准的其他业务。〓（依法须经批准的项目，经相关部门批准后方可开展经营活动） 复制'}"
   ]
  },
  {
   "cell_type": "code",
   "execution_count": 2,
   "id": "ef58bc80-ccc0-408c-b9e1-f730eb13bea0",
   "metadata": {},
   "outputs": [
    {
     "data": {
      "text/plain": [
       "{'统一社会信用代码 ': '91440000190336428Q 复制',\n",
       " '企业名称 ': '广发银行股份有限公司 复制\\n曾用名\\n广东发展银行股份有限公司（1988-07 至 2011-02）',\n",
       " '法定代表人 ': '王\\n\\t\\n王凯\\n 关联企业 6',\n",
       " '登记状态 ': '在营（开业）企业',\n",
       " '成立日期': '1988-07-08 复制',\n",
       " '注册资本 ': '2178986.0711万元人民币',\n",
       " '实缴资本 ': '-',\n",
       " '组织机构代码 ': '19033642-8 复制',\n",
       " '工商注册号 ': '440000000046541 复制',\n",
       " '纳税人识别号 ': '91440000190336428Q 复制',\n",
       " '企业类型': '股份有限公司（非上市、国有控股）',\n",
       " '营业期限 ': '1988-07-08 至无固定期限',\n",
       " '纳税人资质 ': '增值税一般纳税人',\n",
       " '人员规模': '1000-1999人',\n",
       " '参保人数\\n分支机构参保人数': '-\\n45361(2022年报) ',\n",
       " '核准日期 ': '2022-06-28 复制',\n",
       " '所属地区': '广东省广州市越秀区',\n",
       " '登记机关 ': '广东省市场监督管理局',\n",
       " '进出口企业代码 ': '4401190336428 复制',\n",
       " '国标行业 ': '货币金融服务（J66）',\n",
       " '英文名': 'China Guangfa Bank Co., Ltd.',\n",
       " '注册地址 ': '广州市越秀区东风东路713号附近企业 复制',\n",
       " '经营范围 ': '吸收公众存款；发放短期、中期和长期贷款；办理国内外结算；办理票据承兑与贴现；发行金融债券；代理发行、代理兑付、承销政府债券；买卖政府债券、金融债券等有价证券；从事同业拆借；提供信用证服务及担保；从事银行卡业务；代理收付款项及代理保险业务；提供保管箱服务；外汇存、贷款；外汇汇款；外币兑换；国际结算；结汇、售汇；同业外汇拆借；外汇票据的承兑和贴现；外汇借款；外汇担保；买卖和代理买卖股票以外的外币有价证券；发行和代理发行股票以外的外币有价证券；自营和代客外汇买卖；代理国外信用卡的发行及付款业务；离岸金融业务；资信调查、咨询、见证业务；经中国银监会等批准的其他业务。〓（依法须经批准的项目，经相关部门批准后方可开展经营活动） 复制'}"
      ]
     },
     "execution_count": 2,
     "metadata": {},
     "output_type": "execute_result"
    }
   ],
   "source": [
    "json"
   ]
  },
  {
   "cell_type": "code",
   "execution_count": 1,
   "id": "5c78dd34-49c5-42e6-b661-72760e6a8298",
   "metadata": {},
   "outputs": [],
   "source": [
    "# leading member\n",
    "leading_member_arr = [['序号', '姓名', '职务', '持股比例', '个人简介'],\n",
    "['1', '\\n', '\\n白涛\\n 5\\n', '董事长,董事', '-', '详情'],\n",
    "['2', '\\n王\\n', '\\n王凯\\n 6\\n法定代表人受益所有人\\n', '副董事长,经理', '-', '详情'],\n",
    "['3', '\\n苏\\n', '\\n苏恒轩\\n 3\\n', '董事', '-', '-'],\n",
    "['4', '\\n张\\n', '\\n张涤\\n 4\\n', '董事', '-', '详情'],\n",
    "['5', '\\n汤\\n', '\\n汤小青\\n 5\\n', '独立董事', '-', '-'],\n",
    "['6', '\\n赵\\n', '\\n赵旭东\\n 4\\n', '独立董事', '-', '详情'],\n",
    "['7', '\\n刘\\n', '\\n刘详扬\\n 4\\n', '董事', '-', '详情'],\n",
    "['8', '\\n尹\\n', '\\n尹矣\\n', '董事', '-', '-'],\n",
    "['9', '\\n杨\\n', '\\n杨东伟\\n 5\\n', '董事', '-', '详情'],\n",
    "['10', '\\n刘\\n', '\\n刘李孝\\n 2\\n', '董事', '-', '-']]\n",
    "\n",
    "\n"
   ]
  },
  {
   "cell_type": "code",
   "execution_count": 2,
   "id": "4d42732d-3055-4710-9837-8638de42cd74",
   "metadata": {},
   "outputs": [
    {
     "data": {
      "text/plain": [
       "[['序号', '姓名', '职务', '持股比例', '个人简介'],\n",
       " ['1', '\\n', '\\n白涛\\n 5\\n', '董事长,董事', '-', '详情'],\n",
       " ['2', '\\n王\\n', '\\n王凯\\n 6\\n法定代表人受益所有人\\n', '副董事长,经理', '-', '详情'],\n",
       " ['3', '\\n苏\\n', '\\n苏恒轩\\n 3\\n', '董事', '-', '-'],\n",
       " ['4', '\\n张\\n', '\\n张涤\\n 4\\n', '董事', '-', '详情'],\n",
       " ['5', '\\n汤\\n', '\\n汤小青\\n 5\\n', '独立董事', '-', '-'],\n",
       " ['6', '\\n赵\\n', '\\n赵旭东\\n 4\\n', '独立董事', '-', '详情'],\n",
       " ['7', '\\n刘\\n', '\\n刘详扬\\n 4\\n', '董事', '-', '详情'],\n",
       " ['8', '\\n尹\\n', '\\n尹矣\\n', '董事', '-', '-'],\n",
       " ['9', '\\n杨\\n', '\\n杨东伟\\n 5\\n', '董事', '-', '详情'],\n",
       " ['10', '\\n刘\\n', '\\n刘李孝\\n 2\\n', '董事', '-', '-']]"
      ]
     },
     "execution_count": 2,
     "metadata": {},
     "output_type": "execute_result"
    }
   ],
   "source": [
    "leading_member_arr"
   ]
  },
  {
   "cell_type": "code",
   "execution_count": 6,
   "id": "500983d8-58db-455f-9a71-07d7c5068cfa",
   "metadata": {},
   "outputs": [
    {
     "name": "stdout",
     "output_type": "stream",
     "text": [
      "['序号', '姓名', '职务', '持股比例', '个人简介']\n",
      "[['1', '\\n', '\\n白涛\\n 5\\n', '董事长,董事', '-', '详情'], ['2', '\\n王\\n', '\\n王凯\\n 6\\n法定代表人受益所有人\\n', '副董事长,经理', '-', '详情'], ['3', '\\n苏\\n', '\\n苏恒轩\\n 3\\n', '董事', '-', '-'], ['4', '\\n张\\n', '\\n张涤\\n 4\\n', '董事', '-', '详情'], ['5', '\\n汤\\n', '\\n汤小青\\n 5\\n', '独立董事', '-', '-'], ['6', '\\n赵\\n', '\\n赵旭东\\n 4\\n', '独立董事', '-', '详情'], ['7', '\\n刘\\n', '\\n刘详扬\\n 4\\n', '董事', '-', '详情'], ['8', '\\n尹\\n', '\\n尹矣\\n', '董事', '-', '-'], ['9', '\\n杨\\n', '\\n杨东伟\\n 5\\n', '董事', '-', '详情'], ['10', '\\n刘\\n', '\\n刘李孝\\n 2\\n', '董事', '-', '-']]\n"
     ]
    }
   ],
   "source": [
    "leading_member_title = []\n",
    "leading_member_content = []\n",
    "if len(leading_member_arr)>1 :\n",
    "    leading_member_title = leading_member_arr[0]\n",
    "    leading_member_content = leading_member_arr[1:]\n",
    "print(leading_member_title)\n",
    "print(leading_member_content)"
   ]
  },
  {
   "cell_type": "code",
   "execution_count": 7,
   "id": "79f0a822-9c13-4743-9742-6784df7e2051",
   "metadata": {},
   "outputs": [
    {
     "data": {
      "text/plain": [
       "[['1', '\\n白涛\\n 5\\n', '董事长,董事', '-', '详情'],\n",
       " ['2', '\\n王凯\\n 6\\n法定代表人受益所有人\\n', '副董事长,经理', '-', '详情'],\n",
       " ['3', '\\n苏恒轩\\n 3\\n', '董事', '-', '-'],\n",
       " ['4', '\\n张涤\\n 4\\n', '董事', '-', '详情'],\n",
       " ['5', '\\n汤小青\\n 5\\n', '独立董事', '-', '-'],\n",
       " ['6', '\\n赵旭东\\n 4\\n', '独立董事', '-', '详情'],\n",
       " ['7', '\\n刘详扬\\n 4\\n', '董事', '-', '详情'],\n",
       " ['8', '\\n尹矣\\n', '董事', '-', '-'],\n",
       " ['9', '\\n杨东伟\\n 5\\n', '董事', '-', '详情'],\n",
       " ['10', '\\n刘李孝\\n 2\\n', '董事', '-', '-']]"
      ]
     },
     "execution_count": 7,
     "metadata": {},
     "output_type": "execute_result"
    }
   ],
   "source": [
    "[row[:1] + row[2:] for row in leading_member_content]"
   ]
  },
  {
   "cell_type": "code",
   "execution_count": 42,
   "id": "706db179-0775-4787-8198-10c92adc947f",
   "metadata": {},
   "outputs": [],
   "source": [
    "leading_member_json = {\"序号\":\"id\",\"姓名\":\"name\",\"职务\":\"position\",\"持股比例\":\"shareholding_ratio\",\"个人简介\":\"personal_profile\"}"
   ]
  },
  {
   "cell_type": "code",
   "execution_count": 43,
   "id": "ffcd6195-2875-430d-a855-24c6f3c70282",
   "metadata": {},
   "outputs": [
    {
     "data": {
      "text/plain": [
       "'id'"
      ]
     },
     "execution_count": 43,
     "metadata": {},
     "output_type": "execute_result"
    }
   ],
   "source": [
    "key = '序号'\n",
    "leading_member_json[key]"
   ]
  },
  {
   "cell_type": "code",
   "execution_count": 44,
   "id": "26a6f472-3bd6-4966-87a1-adb532ca5886",
   "metadata": {},
   "outputs": [
    {
     "data": {
      "text/plain": [
       "['序号', '姓名', '职务', '持股比例', '个人简介']"
      ]
     },
     "execution_count": 44,
     "metadata": {},
     "output_type": "execute_result"
    }
   ],
   "source": [
    "leading_member_title"
   ]
  },
  {
   "cell_type": "code",
   "execution_count": 48,
   "id": "70351d3b-4c76-40c7-a60a-62f670ff8e32",
   "metadata": {},
   "outputs": [
    {
     "name": "stdout",
     "output_type": "stream",
     "text": [
      "key:序号\n",
      "key:姓名\n",
      "key:职务\n",
      "key:持股比例\n",
      "key:个人简介\n"
     ]
    }
   ],
   "source": [
    "for i in range(len(leading_member_title)):\n",
    "    key = leading_member_title[i]\n",
    "    print(f'key:{key}')\n",
    "    if key in leading_member_json:\n",
    "        leading_member_title[i] = leading_member_json[key]\n",
    "    "
   ]
  },
  {
   "cell_type": "code",
   "execution_count": 49,
   "id": "1b975ccd-7e89-4059-9416-61c6cac1e53d",
   "metadata": {},
   "outputs": [
    {
     "data": {
      "text/plain": [
       "['id', 'name', 'position', 'shareholding_ratio', 'personal_profile']"
      ]
     },
     "execution_count": 49,
     "metadata": {},
     "output_type": "execute_result"
    }
   ],
   "source": [
    "leading_member_title"
   ]
  },
  {
   "cell_type": "code",
   "execution_count": 51,
   "id": "253e4930-2042-4a81-b51d-04e5ec8a7330",
   "metadata": {},
   "outputs": [
    {
     "data": {
      "text/plain": [
       "['__class__',\n",
       " '__class_getitem__',\n",
       " '__contains__',\n",
       " '__delattr__',\n",
       " '__delitem__',\n",
       " '__dir__',\n",
       " '__doc__',\n",
       " '__eq__',\n",
       " '__format__',\n",
       " '__ge__',\n",
       " '__getattribute__',\n",
       " '__getitem__',\n",
       " '__getstate__',\n",
       " '__gt__',\n",
       " '__hash__',\n",
       " '__init__',\n",
       " '__init_subclass__',\n",
       " '__ior__',\n",
       " '__iter__',\n",
       " '__le__',\n",
       " '__len__',\n",
       " '__lt__',\n",
       " '__ne__',\n",
       " '__new__',\n",
       " '__or__',\n",
       " '__reduce__',\n",
       " '__reduce_ex__',\n",
       " '__repr__',\n",
       " '__reversed__',\n",
       " '__ror__',\n",
       " '__setattr__',\n",
       " '__setitem__',\n",
       " '__sizeof__',\n",
       " '__str__',\n",
       " '__subclasshook__',\n",
       " 'clear',\n",
       " 'copy',\n",
       " 'fromkeys',\n",
       " 'get',\n",
       " 'items',\n",
       " 'keys',\n",
       " 'pop',\n",
       " 'popitem',\n",
       " 'setdefault',\n",
       " 'update',\n",
       " 'values']"
      ]
     },
     "execution_count": 51,
     "metadata": {},
     "output_type": "execute_result"
    }
   ],
   "source": [
    "j = {}\n",
    "dir(json)"
   ]
  },
  {
   "cell_type": "code",
   "execution_count": 58,
   "id": "31fb33eb-bf06-4a57-9085-13660127bb5f",
   "metadata": {},
   "outputs": [
    {
     "name": "stdout",
     "output_type": "stream",
     "text": [
      "['1', '\\n', '\\n白涛\\n 5\\n', '董事长,董事', '-', '详情']\n",
      "['2', '\\n王\\n', '\\n王凯\\n 6\\n法定代表人受益所有人\\n', '副董事长,经理', '-', '详情']\n",
      "['3', '\\n苏\\n', '\\n苏恒轩\\n 3\\n', '董事', '-', '-']\n",
      "['4', '\\n张\\n', '\\n张涤\\n 4\\n', '董事', '-', '详情']\n",
      "['5', '\\n汤\\n', '\\n汤小青\\n 5\\n', '独立董事', '-', '-']\n",
      "['6', '\\n赵\\n', '\\n赵旭东\\n 4\\n', '独立董事', '-', '详情']\n",
      "['7', '\\n刘\\n', '\\n刘详扬\\n 4\\n', '董事', '-', '详情']\n",
      "['8', '\\n尹\\n', '\\n尹矣\\n', '董事', '-', '-']\n",
      "['9', '\\n杨\\n', '\\n杨东伟\\n 5\\n', '董事', '-', '详情']\n",
      "['10', '\\n刘\\n', '\\n刘李孝\\n 2\\n', '董事', '-', '-']\n"
     ]
    }
   ],
   "source": [
    "leading_member_list = []\n",
    "if len(leading_member_content) > 0 :\n",
    "    for leading_member in leading_member_content:\n",
    "        print(leading_member)\n",
    "        leading_member_data = {}\n",
    "        for i in range(len(leading_member_title)):\n",
    "            key = leading_member_title[i]\n",
    "            value = leading_member[i].replace('\\n','')\n",
    "            leading_member_data[key] = value\n",
    "        leading_member_list.append(leading_member_data)"
   ]
  },
  {
   "cell_type": "code",
   "execution_count": 59,
   "id": "cc717a6b-d10c-4c2c-a631-7f2b129a7c33",
   "metadata": {},
   "outputs": [
    {
     "data": {
      "text/plain": [
       "[{'id': '1',\n",
       "  'name': '',\n",
       "  'position': '白涛 5',\n",
       "  'shareholding_ratio': '董事长,董事',\n",
       "  'personal_profile': '-'},\n",
       " {'id': '2',\n",
       "  'name': '王',\n",
       "  'position': '王凯 6法定代表人受益所有人',\n",
       "  'shareholding_ratio': '副董事长,经理',\n",
       "  'personal_profile': '-'},\n",
       " {'id': '3',\n",
       "  'name': '苏',\n",
       "  'position': '苏恒轩 3',\n",
       "  'shareholding_ratio': '董事',\n",
       "  'personal_profile': '-'},\n",
       " {'id': '4',\n",
       "  'name': '张',\n",
       "  'position': '张涤 4',\n",
       "  'shareholding_ratio': '董事',\n",
       "  'personal_profile': '-'},\n",
       " {'id': '5',\n",
       "  'name': '汤',\n",
       "  'position': '汤小青 5',\n",
       "  'shareholding_ratio': '独立董事',\n",
       "  'personal_profile': '-'},\n",
       " {'id': '6',\n",
       "  'name': '赵',\n",
       "  'position': '赵旭东 4',\n",
       "  'shareholding_ratio': '独立董事',\n",
       "  'personal_profile': '-'},\n",
       " {'id': '7',\n",
       "  'name': '刘',\n",
       "  'position': '刘详扬 4',\n",
       "  'shareholding_ratio': '董事',\n",
       "  'personal_profile': '-'},\n",
       " {'id': '8',\n",
       "  'name': '尹',\n",
       "  'position': '尹矣',\n",
       "  'shareholding_ratio': '董事',\n",
       "  'personal_profile': '-'},\n",
       " {'id': '9',\n",
       "  'name': '杨',\n",
       "  'position': '杨东伟 5',\n",
       "  'shareholding_ratio': '董事',\n",
       "  'personal_profile': '-'},\n",
       " {'id': '10',\n",
       "  'name': '刘',\n",
       "  'position': '刘李孝 2',\n",
       "  'shareholding_ratio': '董事',\n",
       "  'personal_profile': '-'}]"
      ]
     },
     "execution_count": 59,
     "metadata": {},
     "output_type": "execute_result"
    }
   ],
   "source": [
    "leading_member_list"
   ]
  }
 ],
 "metadata": {
  "kernelspec": {
   "display_name": "Python 3 (ipykernel)",
   "language": "python",
   "name": "python3"
  },
  "language_info": {
   "codemirror_mode": {
    "name": "ipython",
    "version": 3
   },
   "file_extension": ".py",
   "mimetype": "text/x-python",
   "name": "python",
   "nbconvert_exporter": "python",
   "pygments_lexer": "ipython3",
   "version": "3.12.2"
  }
 },
 "nbformat": 4,
 "nbformat_minor": 5
}
