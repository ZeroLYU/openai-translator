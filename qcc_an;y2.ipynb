{
 "cells": [
  {
   "cell_type": "code",
   "execution_count": 1,
   "id": "8157538b-ea94-434c-8be0-0c77dee1c73c",
   "metadata": {},
   "outputs": [],
   "source": [
    "import json"
   ]
  },
  {
   "cell_type": "code",
   "execution_count": 2,
   "id": "5e330cad-ee2f-4bb2-8ebd-e0532b1db3bc",
   "metadata": {},
   "outputs": [],
   "source": [
    "def list_to_json(_dict, title, contents):\n",
    "    # 将title转为字典值\n",
    "    for i in range(len(title)):\n",
    "        key = title[i].strip()\n",
    "        if key in _dict:\n",
    "            title[i] = _dict[key]\n",
    "    print(title)\n",
    "    print(len(contents))\n",
    "    result_list = []\n",
    "    if len(contents) > 0 :\n",
    "        for content in contents:\n",
    "            data = {}\n",
    "            for i in range(len(title)):\n",
    "                key = title[i]\n",
    "                value = content[i].replace('\\n','').strip()\n",
    "                data[key] = value\n",
    "            result_list.append(data)\n",
    "    return result_list"
   ]
  },
  {
   "cell_type": "code",
   "execution_count": 3,
   "id": "1362555e-1eef-4a11-a0cb-0d52666b59da",
   "metadata": {},
   "outputs": [],
   "source": [
    "# 有些数据头像也作为文本信息，需要剔除该列，一般是第二\n",
    "def list_to_json_exclude_pic(_dict, title, contents, exclude_col=1):\n",
    "    contents = [row[:exclude_col] + row[exclude_col+1:] for row in contents]\n",
    "    return list_to_json(_dict, title, contents)"
   ]
  },
  {
   "cell_type": "code",
   "execution_count": 3,
   "id": "c26ec449-e5d2-46f3-8df5-0abbb1e78d1c",
   "metadata": {},
   "outputs": [
    {
     "name": "stdout",
     "output_type": "stream",
     "text": [
      "['序号', '姓名', '职务', '持股比例', '个人简介']\n",
      "[['1', '\\n', '\\n白涛\\n 5\\n', '董事长,董事', '-', '详情'], ['2', '\\n王\\n', '\\n王凯\\n 6\\n法定代表人受益所有人\\n', '副董事长,经理', '-', '详情'], ['3', '\\n苏\\n', '\\n苏恒轩\\n 3\\n', '董事', '-', '-'], ['4', '\\n张\\n', '\\n张涤\\n 4\\n', '董事', '-', '详情'], ['5', '\\n汤\\n', '\\n汤小青\\n 5\\n', '独立董事', '-', '-'], ['6', '\\n赵\\n', '\\n赵旭东\\n 4\\n', '独立董事', '-', '详情'], ['7', '\\n刘\\n', '\\n刘详扬\\n 4\\n', '董事', '-', '详情'], ['8', '\\n尹\\n', '\\n尹矣\\n', '董事', '-', '-'], ['9', '\\n杨\\n', '\\n杨东伟\\n 5\\n', '董事', '-', '详情'], ['10', '\\n刘\\n', '\\n刘李孝\\n 2\\n', '董事', '-', '-']]\n"
     ]
    }
   ],
   "source": [
    "# leading member\n",
    "leading_member_arr = [['序号', '姓名', '职务', '持股比例', '个人简介'],\n",
    "['1', '\\n', '\\n白涛\\n 5\\n', '董事长,董事', '-', '详情'],\n",
    "['2', '\\n王\\n', '\\n王凯\\n 6\\n法定代表人受益所有人\\n', '副董事长,经理', '-', '详情'],\n",
    "['3', '\\n苏\\n', '\\n苏恒轩\\n 3\\n', '董事', '-', '-'],\n",
    "['4', '\\n张\\n', '\\n张涤\\n 4\\n', '董事', '-', '详情'],\n",
    "['5', '\\n汤\\n', '\\n汤小青\\n 5\\n', '独立董事', '-', '-'],\n",
    "['6', '\\n赵\\n', '\\n赵旭东\\n 4\\n', '独立董事', '-', '详情'],\n",
    "['7', '\\n刘\\n', '\\n刘详扬\\n 4\\n', '董事', '-', '详情'],\n",
    "['8', '\\n尹\\n', '\\n尹矣\\n', '董事', '-', '-'],\n",
    "['9', '\\n杨\\n', '\\n杨东伟\\n 5\\n', '董事', '-', '详情'],\n",
    "['10', '\\n刘\\n', '\\n刘李孝\\n 2\\n', '董事', '-', '-']]\n",
    "leading_member_title = []\n",
    "leading_member_content = []\n",
    "if len(leading_member_arr)>1 :\n",
    "    leading_member_title = leading_member_arr[0]\n",
    "    leading_member_content = leading_member_arr[1:]\n",
    "print(leading_member_title)\n",
    "print(leading_member_content)"
   ]
  },
  {
   "cell_type": "code",
   "execution_count": 4,
   "id": "2664deb3-1cf8-4979-b580-2dd2f9f72e74",
   "metadata": {},
   "outputs": [],
   "source": [
    "leading_member_json = {\"序号\":\"id\",\"姓名\":\"name\",\"职务\":\"position\",\"持股比例\":\"shareholding_ratio\",\"个人简介\":\"personal_profile\"}"
   ]
  },
  {
   "cell_type": "code",
   "execution_count": 28,
   "id": "ae551d72-81f9-4aef-93a8-4c472c581213",
   "metadata": {},
   "outputs": [
    {
     "name": "stdout",
     "output_type": "stream",
     "text": [
      "['id', 'name', 'position', 'shareholding_ratio', 'personal_profile']\n"
     ]
    },
    {
     "data": {
      "text/plain": [
       "[{'id': '1',\n",
       "  'name': '白涛 5',\n",
       "  'position': '董事长,董事',\n",
       "  'shareholding_ratio': '-',\n",
       "  'personal_profile': '详情'},\n",
       " {'id': '2',\n",
       "  'name': '王凯 6法定代表人受益所有人',\n",
       "  'position': '副董事长,经理',\n",
       "  'shareholding_ratio': '-',\n",
       "  'personal_profile': '详情'},\n",
       " {'id': '3',\n",
       "  'name': '苏恒轩 3',\n",
       "  'position': '董事',\n",
       "  'shareholding_ratio': '-',\n",
       "  'personal_profile': '-'},\n",
       " {'id': '4',\n",
       "  'name': '张涤 4',\n",
       "  'position': '董事',\n",
       "  'shareholding_ratio': '-',\n",
       "  'personal_profile': '详情'},\n",
       " {'id': '5',\n",
       "  'name': '汤小青 5',\n",
       "  'position': '独立董事',\n",
       "  'shareholding_ratio': '-',\n",
       "  'personal_profile': '-'},\n",
       " {'id': '6',\n",
       "  'name': '赵旭东 4',\n",
       "  'position': '独立董事',\n",
       "  'shareholding_ratio': '-',\n",
       "  'personal_profile': '详情'},\n",
       " {'id': '7',\n",
       "  'name': '刘详扬 4',\n",
       "  'position': '董事',\n",
       "  'shareholding_ratio': '-',\n",
       "  'personal_profile': '详情'},\n",
       " {'id': '8',\n",
       "  'name': '尹矣',\n",
       "  'position': '董事',\n",
       "  'shareholding_ratio': '-',\n",
       "  'personal_profile': '-'},\n",
       " {'id': '9',\n",
       "  'name': '杨东伟 5',\n",
       "  'position': '董事',\n",
       "  'shareholding_ratio': '-',\n",
       "  'personal_profile': '详情'},\n",
       " {'id': '10',\n",
       "  'name': '刘李孝 2',\n",
       "  'position': '董事',\n",
       "  'shareholding_ratio': '-',\n",
       "  'personal_profile': '-'}]"
      ]
     },
     "execution_count": 28,
     "metadata": {},
     "output_type": "execute_result"
    }
   ],
   "source": [
    "list_to_json_exclude_pic(leading_member_json, leading_member_title, leading_member_content)"
   ]
  },
  {
   "cell_type": "code",
   "execution_count": 14,
   "id": "845acbb0-250f-4e61-8e87-50ea838a0387",
   "metadata": {},
   "outputs": [],
   "source": [
    "invest_infos= [['序号', '被投资企业名称', '状态', '成立日期 ', '持股比例 ', '认缴出资额 ', '所属地区', '所属行业', '关联产品/机构'],\n",
    "['1', '\\n', '\\n广银理财有限责任公司\\n', '存续', '2021-12-01', '100%', '\\n500000万元人民币\\n', '上海市浦东新区', '金融业', '-'],\n",
    "['2', '\\n', '\\n中国银联股份有限公司\\n', '存续', '2002-03-08', '2.3888%', '\\n7000万元人民币\\n', '上海市浦东新区', '金融业', '中国银联'],\n",
    "['3', '\\n', '\\n江苏苏豪纺织集团有限公司\\n', '存续', '1992-06-10', '1.9167%', '\\n2439.5573万元人民币\\n', '江苏省南京市', '批发和零售业', '苏纺集团'],\n",
    "['4', '\\n', '\\n上海黄金交易所\\n', '存续', '2002-02-06', '0.9821%', '\\n110万元人民币\\n', '上海市黄浦区', '金融业', '上金所'],\n",
    "['5', '\\n发展\\n银行\\n', '\\n广东发展银行深圳证券业务部\\n', '注销', '1993-12-20', '100%', '\\n1000万元人民币\\n', '广东省深圳市', '批发和零售业', '-'],\n",
    "['6', '\\n广发\\n国际\\n', '\\n广东广发国际金融咨询有限公司\\n', '注销', '1994-04-05', '41%', '\\n410万元人民币\\n', '广东省广州市', '租赁和商务服务业', '-'],\n",
    "['7', '\\n金马\\n大夏\\n', '\\n金马大夏\\n', '吊销', '1992-04-18', '20%', '\\n100万元人民币\\n', '内蒙古自治区呼和浩特市', '住宿和餐饮业', '-'],\n",
    "['8', '\\n新成\\n电工\\n', '\\n广州新成电工发展有限公司\\n', '吊销', '1989-10-26', '-', '-', '广东省广州市', '制造业', '-'],\n",
    "['9', '\\n金马\\n大厦\\n', '\\n金马大厦\\n', '吊销', '1992-04-18', '-', '-', '内蒙古自治区呼和浩特市', '文化、体育和娱乐业', '-']]"
   ]
  },
  {
   "cell_type": "code",
   "execution_count": 15,
   "id": "cd2bbf45-6516-4ea7-a7ac-ae22d46c9d25",
   "metadata": {},
   "outputs": [
    {
     "name": "stdout",
     "output_type": "stream",
     "text": [
      "['序号', '被投资企业名称', '状态', '成立日期 ', '持股比例 ', '认缴出资额 ', '所属地区', '所属行业', '关联产品/机构']\n",
      "[['1', '\\n', '\\n广银理财有限责任公司\\n', '存续', '2021-12-01', '100%', '\\n500000万元人民币\\n', '上海市浦东新区', '金融业', '-'], ['2', '\\n', '\\n中国银联股份有限公司\\n', '存续', '2002-03-08', '2.3888%', '\\n7000万元人民币\\n', '上海市浦东新区', '金融业', '中国银联'], ['3', '\\n', '\\n江苏苏豪纺织集团有限公司\\n', '存续', '1992-06-10', '1.9167%', '\\n2439.5573万元人民币\\n', '江苏省南京市', '批发和零售业', '苏纺集团'], ['4', '\\n', '\\n上海黄金交易所\\n', '存续', '2002-02-06', '0.9821%', '\\n110万元人民币\\n', '上海市黄浦区', '金融业', '上金所'], ['5', '\\n发展\\n银行\\n', '\\n广东发展银行深圳证券业务部\\n', '注销', '1993-12-20', '100%', '\\n1000万元人民币\\n', '广东省深圳市', '批发和零售业', '-'], ['6', '\\n广发\\n国际\\n', '\\n广东广发国际金融咨询有限公司\\n', '注销', '1994-04-05', '41%', '\\n410万元人民币\\n', '广东省广州市', '租赁和商务服务业', '-'], ['7', '\\n金马\\n大夏\\n', '\\n金马大夏\\n', '吊销', '1992-04-18', '20%', '\\n100万元人民币\\n', '内蒙古自治区呼和浩特市', '住宿和餐饮业', '-'], ['8', '\\n新成\\n电工\\n', '\\n广州新成电工发展有限公司\\n', '吊销', '1989-10-26', '-', '-', '广东省广州市', '制造业', '-'], ['9', '\\n金马\\n大厦\\n', '\\n金马大厦\\n', '吊销', '1992-04-18', '-', '-', '内蒙古自治区呼和浩特市', '文化、体育和娱乐业', '-']]\n"
     ]
    }
   ],
   "source": [
    "invest_info_title = []\n",
    "invest_info_content = []\n",
    "if len(invest_infos)>1 :\n",
    "    invest_info_title = invest_infos[0]\n",
    "    invest_info_content = invest_infos[1:]\n",
    "print(invest_info_title)\n",
    "print(invest_info_content)"
   ]
  },
  {
   "cell_type": "code",
   "execution_count": 16,
   "id": "e2bac49e-4e2c-4f23-bb04-ae3760923b5e",
   "metadata": {},
   "outputs": [],
   "source": [
    "invest_info_json = {\"序号\":\"id\",\"被投资企业名称\":\"investment_name\",\"状态\":\"status\",\"成立日期\":\"established_date\",\"持股比例\":\"shareholding_ratio\",\"认缴出资额\":\"subscribed_capital\",\"所属地区\":\"region\",\"所属行业\":\"industry\",\"关联产品/机构\":\"related_products\"}"
   ]
  },
  {
   "cell_type": "code",
   "execution_count": 31,
   "id": "b6606210-b09b-4c90-9edc-dfc4a2d394f4",
   "metadata": {},
   "outputs": [
    {
     "name": "stdout",
     "output_type": "stream",
     "text": [
      "['id', 'investment_name', 'status', 'established_date', 'shareholding_ratio', 'subscribed_capital', 'region', 'industry', 'related_products']\n"
     ]
    },
    {
     "data": {
      "text/plain": [
       "[{'id': '1',\n",
       "  'investment_name': '广银理财有限责任公司',\n",
       "  'status': '存续',\n",
       "  'established_date': '2021-12-01',\n",
       "  'shareholding_ratio': '100%',\n",
       "  'subscribed_capital': '500000万元人民币',\n",
       "  'region': '上海市浦东新区',\n",
       "  'industry': '金融业',\n",
       "  'related_products': '-'},\n",
       " {'id': '2',\n",
       "  'investment_name': '中国银联股份有限公司',\n",
       "  'status': '存续',\n",
       "  'established_date': '2002-03-08',\n",
       "  'shareholding_ratio': '2.3888%',\n",
       "  'subscribed_capital': '7000万元人民币',\n",
       "  'region': '上海市浦东新区',\n",
       "  'industry': '金融业',\n",
       "  'related_products': '中国银联'},\n",
       " {'id': '3',\n",
       "  'investment_name': '江苏苏豪纺织集团有限公司',\n",
       "  'status': '存续',\n",
       "  'established_date': '1992-06-10',\n",
       "  'shareholding_ratio': '1.9167%',\n",
       "  'subscribed_capital': '2439.5573万元人民币',\n",
       "  'region': '江苏省南京市',\n",
       "  'industry': '批发和零售业',\n",
       "  'related_products': '苏纺集团'},\n",
       " {'id': '4',\n",
       "  'investment_name': '上海黄金交易所',\n",
       "  'status': '存续',\n",
       "  'established_date': '2002-02-06',\n",
       "  'shareholding_ratio': '0.9821%',\n",
       "  'subscribed_capital': '110万元人民币',\n",
       "  'region': '上海市黄浦区',\n",
       "  'industry': '金融业',\n",
       "  'related_products': '上金所'},\n",
       " {'id': '5',\n",
       "  'investment_name': '广东发展银行深圳证券业务部',\n",
       "  'status': '注销',\n",
       "  'established_date': '1993-12-20',\n",
       "  'shareholding_ratio': '100%',\n",
       "  'subscribed_capital': '1000万元人民币',\n",
       "  'region': '广东省深圳市',\n",
       "  'industry': '批发和零售业',\n",
       "  'related_products': '-'},\n",
       " {'id': '6',\n",
       "  'investment_name': '广东广发国际金融咨询有限公司',\n",
       "  'status': '注销',\n",
       "  'established_date': '1994-04-05',\n",
       "  'shareholding_ratio': '41%',\n",
       "  'subscribed_capital': '410万元人民币',\n",
       "  'region': '广东省广州市',\n",
       "  'industry': '租赁和商务服务业',\n",
       "  'related_products': '-'},\n",
       " {'id': '7',\n",
       "  'investment_name': '金马大夏',\n",
       "  'status': '吊销',\n",
       "  'established_date': '1992-04-18',\n",
       "  'shareholding_ratio': '20%',\n",
       "  'subscribed_capital': '100万元人民币',\n",
       "  'region': '内蒙古自治区呼和浩特市',\n",
       "  'industry': '住宿和餐饮业',\n",
       "  'related_products': '-'},\n",
       " {'id': '8',\n",
       "  'investment_name': '广州新成电工发展有限公司',\n",
       "  'status': '吊销',\n",
       "  'established_date': '1989-10-26',\n",
       "  'shareholding_ratio': '-',\n",
       "  'subscribed_capital': '-',\n",
       "  'region': '广东省广州市',\n",
       "  'industry': '制造业',\n",
       "  'related_products': '-'},\n",
       " {'id': '9',\n",
       "  'investment_name': '金马大厦',\n",
       "  'status': '吊销',\n",
       "  'established_date': '1992-04-18',\n",
       "  'shareholding_ratio': '-',\n",
       "  'subscribed_capital': '-',\n",
       "  'region': '内蒙古自治区呼和浩特市',\n",
       "  'industry': '文化、体育和娱乐业',\n",
       "  'related_products': '-'}]"
      ]
     },
     "execution_count": 31,
     "metadata": {},
     "output_type": "execute_result"
    }
   ],
   "source": [
    "list_to_json_exclude_pic(invest_info_json, invest_info_title, invest_info_content)"
   ]
  },
  {
   "cell_type": "code",
   "execution_count": 22,
   "id": "036b647a-b16c-4935-9f20-d0130fc650c4",
   "metadata": {},
   "outputs": [
    {
     "name": "stdout",
     "output_type": "stream",
     "text": [
      "['序号', '企业名称', '状态', '法定代表人等', '注册资本', '地区', '持股比例', '职位']\n",
      "[['1', '\\n', '\\n中国南方电网有限责任公司\\n', '在业', '孟振平', '9020000万元人民币', '广东省', '-', '董事'], ['2', '\\n', '\\n广发银行股份有限公司\\n', '在业', '王凯', '2178986.0711万元人民币', '广东省', '-', '副董事长,经理'], ['3', '\\n', '\\n中国人寿保险（海外）股份有限公司\\n', '存续', '王凯', '697788.8243万元人民币', '广东省', '-', '-'], ['4', '\\n供电\\n局\\n', '\\n三沙供电局有限责任公司\\n', '存续', '余立强', '24100万元人民币', '海南省', '-', '监事'], ['5', '\\n送变\\n电\\n', '\\n海南送变电工程有限公司\\n', '存续', '张振璧', '9000万元人民币', '海南省', '-', '监事'], ['6', '\\n电力\\n交易\\n', '\\n海南电力交易中心有限责任公司\\n', '存续', '黄德胜', '5432.42万元人民币', '海南省', '-', '-']]\n"
     ]
    }
   ],
   "source": [
    "related_enterprises = [['序号', '企业名称', '状态', '法定代表人等', '注册资本', '地区', '持股比例', '职位'],\n",
    "['1', '\\n', '\\n中国南方电网有限责任公司\\n', '在业', '孟振平', '9020000万元人民币', '广东省', '-', '董事'],\n",
    "['2', '\\n', '\\n广发银行股份有限公司\\n', '在业', '王凯', '2178986.0711万元人民币', '广东省', '-', '副董事长,经理'],\n",
    "['3', '\\n', '\\n中国人寿保险（海外）股份有限公司\\n', '存续', '王凯', '697788.8243万元人民币', '广东省', '-', '-'],\n",
    "['4', '\\n供电\\n局\\n', '\\n三沙供电局有限责任公司\\n', '存续', '余立强', '24100万元人民币', '海南省', '-', '监事'],\n",
    "['5', '\\n送变\\n电\\n', '\\n海南送变电工程有限公司\\n', '存续', '张振璧', '9000万元人民币', '海南省', '-', '监事'],\n",
    "['6', '\\n电力\\n交易\\n', '\\n海南电力交易中心有限责任公司\\n', '存续', '黄德胜', '5432.42万元人民币', '海南省', '-', '-']]\n",
    "related_enterprises_title = []\n",
    "related_enterprises_content = []\n",
    "if len(invest_infos) > 1:\n",
    "    related_enterprises_title = related_enterprises[0]\n",
    "    related_enterprises_content = related_enterprises[1:]\n",
    "print(related_enterprises_title)\n",
    "print(related_enterprises_content)\n",
    "related_enterprises_dict = {\"序号\":\"id\",\"企业名称\":\"company_name\",\"状态\":\"status\",\"法定代表人等\":\"legal_representative\",\"注册资本\":\"registered_capital\",\"地区\":\"region\",\"持股比例\":\"shareholding_ratio\",\"职位\":\"position\"}"
   ]
  },
  {
   "cell_type": "code",
   "execution_count": 30,
   "id": "8ec3252f-f394-46c8-9c04-2b8bbe053c3a",
   "metadata": {},
   "outputs": [
    {
     "name": "stdout",
     "output_type": "stream",
     "text": [
      "['id', 'company_name', 'status', 'legal_representative', 'registered_capital', 'region', 'shareholding_ratio', 'position']\n"
     ]
    },
    {
     "data": {
      "text/plain": [
       "[{'id': '1',\n",
       "  'company_name': '中国南方电网有限责任公司',\n",
       "  'status': '在业',\n",
       "  'legal_representative': '孟振平',\n",
       "  'registered_capital': '9020000万元人民币',\n",
       "  'region': '广东省',\n",
       "  'shareholding_ratio': '-',\n",
       "  'position': '董事'},\n",
       " {'id': '2',\n",
       "  'company_name': '广发银行股份有限公司',\n",
       "  'status': '在业',\n",
       "  'legal_representative': '王凯',\n",
       "  'registered_capital': '2178986.0711万元人民币',\n",
       "  'region': '广东省',\n",
       "  'shareholding_ratio': '-',\n",
       "  'position': '副董事长,经理'},\n",
       " {'id': '3',\n",
       "  'company_name': '中国人寿保险（海外）股份有限公司',\n",
       "  'status': '存续',\n",
       "  'legal_representative': '王凯',\n",
       "  'registered_capital': '697788.8243万元人民币',\n",
       "  'region': '广东省',\n",
       "  'shareholding_ratio': '-',\n",
       "  'position': '-'},\n",
       " {'id': '4',\n",
       "  'company_name': '三沙供电局有限责任公司',\n",
       "  'status': '存续',\n",
       "  'legal_representative': '余立强',\n",
       "  'registered_capital': '24100万元人民币',\n",
       "  'region': '海南省',\n",
       "  'shareholding_ratio': '-',\n",
       "  'position': '监事'},\n",
       " {'id': '5',\n",
       "  'company_name': '海南送变电工程有限公司',\n",
       "  'status': '存续',\n",
       "  'legal_representative': '张振璧',\n",
       "  'registered_capital': '9000万元人民币',\n",
       "  'region': '海南省',\n",
       "  'shareholding_ratio': '-',\n",
       "  'position': '监事'},\n",
       " {'id': '6',\n",
       "  'company_name': '海南电力交易中心有限责任公司',\n",
       "  'status': '存续',\n",
       "  'legal_representative': '黄德胜',\n",
       "  'registered_capital': '5432.42万元人民币',\n",
       "  'region': '海南省',\n",
       "  'shareholding_ratio': '-',\n",
       "  'position': '-'}]"
      ]
     },
     "execution_count": 30,
     "metadata": {},
     "output_type": "execute_result"
    }
   ],
   "source": [
    "list_to_json_exclude_pic(related_enterprises_dict, related_enterprises_title, related_enterprises_content)"
   ]
  },
  {
   "cell_type": "code",
   "execution_count": 4,
   "id": "31fa59c0-830c-461f-9898-d90d4b63cbe7",
   "metadata": {},
   "outputs": [
    {
     "name": "stdout",
     "output_type": "stream",
     "text": [
      "['序号', '股东名称', '持股比例 ', '持股数(股) ', '最终受益股份', '关联产品/机构']\n",
      "[['1', '\\n', '\\n中国人寿保险股份有限公司\\n国有控股大股东沪主板（601628）港交所（02628）\\n', '43.6864%', '9,519,210,262', '44.2707%', '中国人寿'], ['2', '\\n', '\\n中信信托有限责任公司\\n央企子公司私募基金管理人\\n', '14.1372%', '3,080,479,452', '14.1372%', '中信信托'], ['3', '\\n', '\\n国网英大国际控股集团有限公司\\n央企子公司\\n', '8.9194%', '1,943,533,352', '8.9202%', '-'], ['4', '\\n', '\\n江西省交通投资集团有限责任公司\\n省管国企\\n', '8.1843%', '1,783,343,771', '8.1843%', '-'], ['5', '\\n', '\\n中华人民共和国财政部\\n实际控制人\\n', '5.2178%', '1,136,946,100', '32.5862%', '-'], ['6', '\\n', '\\n中航投资控股有限公司\\n国有控股\\n', '3.4992%', '762,469,249', '3.4993%', '中航产融'], ['7', '\\n', '\\n广州市城市建设投资集团有限公司\\n市管国企\\n', '3.4145%', '744,013,552', '3.4145%', '广州城投'], ['8', '\\n', '\\n广东粤财投资控股有限公司\\n国有全资被执行人\\n', '1.4583%', '317,757,229', '1.4583%', '-'], ['9', '\\n', '\\n华晨汽车集团控股有限公司\\n省管国企股权出质\\n', '1.0262%', '223,596,793', '1.0262%', '-'], ['10', '\\n', '\\n江苏苏钢集团有限公司\\n股权冻结股权出质\\n', '1.0224%', '222,777,231', '1.0224%', '-'], ['11', '\\n', '\\n湖南湘江新区发展集团有限公司\\n市管国企\\n', '1.0000%', '217,898,607', '1.0000%', '湘江新区']]\n"
     ]
    }
   ],
   "source": [
    "shareholder_informations = [['序号', '股东名称', '持股比例 ', '持股数(股) ', '最终受益股份', '关联产品/机构'],\n",
    "['1', '\\n', '\\n中国人寿保险股份有限公司\\n国有控股大股东沪主板（601628）港交所（02628）\\n', '43.6864%', '9,519,210,262', '44.2707%', '中国人寿'],\n",
    "['2', '\\n', '\\n中信信托有限责任公司\\n央企子公司私募基金管理人\\n', '14.1372%', '3,080,479,452', '14.1372%', '中信信托'],\n",
    "['3', '\\n', '\\n国网英大国际控股集团有限公司\\n央企子公司\\n', '8.9194%', '1,943,533,352', '8.9202%', '-'],\n",
    "['4', '\\n', '\\n江西省交通投资集团有限责任公司\\n省管国企\\n', '8.1843%', '1,783,343,771', '8.1843%', '-'],\n",
    "['5', '\\n', '\\n中华人民共和国财政部\\n实际控制人\\n', '5.2178%', '1,136,946,100', '32.5862%', '-'],\n",
    "['6', '\\n', '\\n中航投资控股有限公司\\n国有控股\\n', '3.4992%', '762,469,249', '3.4993%', '中航产融'],\n",
    "['7', '\\n', '\\n广州市城市建设投资集团有限公司\\n市管国企\\n', '3.4145%', '744,013,552', '3.4145%', '广州城投'],\n",
    "['8', '\\n', '\\n广东粤财投资控股有限公司\\n国有全资被执行人\\n', '1.4583%', '317,757,229', '1.4583%', '-'],\n",
    "['9', '\\n', '\\n华晨汽车集团控股有限公司\\n省管国企股权出质\\n', '1.0262%', '223,596,793', '1.0262%', '-'],\n",
    "['10', '\\n', '\\n江苏苏钢集团有限公司\\n股权冻结股权出质\\n', '1.0224%', '222,777,231', '1.0224%', '-'],\n",
    "['11', '\\n', '\\n湖南湘江新区发展集团有限公司\\n市管国企\\n', '1.0000%', '217,898,607', '1.0000%', '湘江新区']]\n",
    "shareholder_information_title = []\n",
    "shareholder_information_content = []\n",
    "if len(shareholder_informations) > 1:\n",
    "    shareholder_information_title = shareholder_informations[0]\n",
    "    shareholder_information_content = shareholder_informations[1:]\n",
    "print(shareholder_information_title)\n",
    "print(shareholder_information_content)\n",
    "shareholder_information_dict = {\"序号\":\"id\",\"股东名称\":\"name\",\"持股比例\":\"ratio\",\"持股数(股)\":\"shares_held\",\"最终受益股份\":\"final_beneficiary_shares\",\"关联产品/机构\":\"related_products_institutions\"}\n"
   ]
  },
  {
   "cell_type": "code",
   "execution_count": 12,
   "id": "a2971bda-cb2c-4495-9ce0-565e406bcf6c",
   "metadata": {},
   "outputs": [
    {
     "name": "stdout",
     "output_type": "stream",
     "text": [
      "['id', 'name', 'ratio', 'shares_held', 'final_beneficiary_shares', 'related_products_institutions']\n",
      "11\n"
     ]
    }
   ],
   "source": [
    "json_arr = list_to_json_exclude_pic(shareholder_information_dict, shareholder_information_title, shareholder_information_content)"
   ]
  },
  {
   "cell_type": "code",
   "execution_count": 16,
   "id": "3ec0f47f-25be-46dd-a2f0-31878ca5acce",
   "metadata": {},
   "outputs": [
    {
     "data": {
      "text/plain": [
       "[{'id': '2',\n",
       "  'name': '中信信托有限责任公司央企子公司私募基金管理人',\n",
       "  'ratio': '14.1372%',\n",
       "  'shares_held': '3,080,479,452',\n",
       "  'final_beneficiary_shares': '14.1372%',\n",
       "  'related_products_institutions': '中信信托'},\n",
       " {'id': '3',\n",
       "  'name': '国网英大国际控股集团有限公司央企子公司',\n",
       "  'ratio': '8.9194%',\n",
       "  'shares_held': '1,943,533,352',\n",
       "  'final_beneficiary_shares': '8.9202%',\n",
       "  'related_products_institutions': '-'}]"
      ]
     },
     "execution_count": 16,
     "metadata": {},
     "output_type": "execute_result"
    }
   ],
   "source": [
    "json_arr[1:3]"
   ]
  },
  {
   "cell_type": "code",
   "execution_count": 10,
   "id": "60701dc6-292f-405b-87e2-1325023c151c",
   "metadata": {},
   "outputs": [],
   "source": [
    "json_string = json.dumps(json_arr, ensure_ascii=False)"
   ]
  },
  {
   "cell_type": "code",
   "execution_count": 11,
   "id": "09aa8712-ee7c-45ac-8ecf-40ff118b185b",
   "metadata": {},
   "outputs": [
    {
     "data": {
      "text/plain": [
       "'[{\"id\": \"1\", \"name\": \"中国人寿保险股份有限公司国有控股大股东沪主板（601628）港交所（02628）\", \"ratio\": \"43.6864%\", \"shares_held\": \"9,519,210,262\", \"final_beneficiary_shares\": \"44.2707%\", \"related_products_institutions\": \"中国人寿\"}, {\"id\": \"2\", \"name\": \"中信信托有限责任公司央企子公司私募基金管理人\", \"ratio\": \"14.1372%\", \"shares_held\": \"3,080,479,452\", \"final_beneficiary_shares\": \"14.1372%\", \"related_products_institutions\": \"中信信托\"}, {\"id\": \"3\", \"name\": \"国网英大国际控股集团有限公司央企子公司\", \"ratio\": \"8.9194%\", \"shares_held\": \"1,943,533,352\", \"final_beneficiary_shares\": \"8.9202%\", \"related_products_institutions\": \"-\"}, {\"id\": \"4\", \"name\": \"江西省交通投资集团有限责任公司省管国企\", \"ratio\": \"8.1843%\", \"shares_held\": \"1,783,343,771\", \"final_beneficiary_shares\": \"8.1843%\", \"related_products_institutions\": \"-\"}, {\"id\": \"5\", \"name\": \"中华人民共和国财政部实际控制人\", \"ratio\": \"5.2178%\", \"shares_held\": \"1,136,946,100\", \"final_beneficiary_shares\": \"32.5862%\", \"related_products_institutions\": \"-\"}, {\"id\": \"6\", \"name\": \"中航投资控股有限公司国有控股\", \"ratio\": \"3.4992%\", \"shares_held\": \"762,469,249\", \"final_beneficiary_shares\": \"3.4993%\", \"related_products_institutions\": \"中航产融\"}, {\"id\": \"7\", \"name\": \"广州市城市建设投资集团有限公司市管国企\", \"ratio\": \"3.4145%\", \"shares_held\": \"744,013,552\", \"final_beneficiary_shares\": \"3.4145%\", \"related_products_institutions\": \"广州城投\"}, {\"id\": \"8\", \"name\": \"广东粤财投资控股有限公司国有全资被执行人\", \"ratio\": \"1.4583%\", \"shares_held\": \"317,757,229\", \"final_beneficiary_shares\": \"1.4583%\", \"related_products_institutions\": \"-\"}, {\"id\": \"9\", \"name\": \"华晨汽车集团控股有限公司省管国企股权出质\", \"ratio\": \"1.0262%\", \"shares_held\": \"223,596,793\", \"final_beneficiary_shares\": \"1.0262%\", \"related_products_institutions\": \"-\"}, {\"id\": \"10\", \"name\": \"江苏苏钢集团有限公司股权冻结股权出质\", \"ratio\": \"1.0224%\", \"shares_held\": \"222,777,231\", \"final_beneficiary_shares\": \"1.0224%\", \"related_products_institutions\": \"-\"}, {\"id\": \"11\", \"name\": \"湖南湘江新区发展集团有限公司市管国企\", \"ratio\": \"1.0000%\", \"shares_held\": \"217,898,607\", \"final_beneficiary_shares\": \"1.0000%\", \"related_products_institutions\": \"湘江新区\"}]'"
      ]
     },
     "execution_count": 11,
     "metadata": {},
     "output_type": "execute_result"
    }
   ],
   "source": [
    "json_string"
   ]
  }
 ],
 "metadata": {
  "kernelspec": {
   "display_name": "Python 3 (ipykernel)",
   "language": "python",
   "name": "python3"
  },
  "language_info": {
   "codemirror_mode": {
    "name": "ipython",
    "version": 3
   },
   "file_extension": ".py",
   "mimetype": "text/x-python",
   "name": "python",
   "nbconvert_exporter": "python",
   "pygments_lexer": "ipython3",
   "version": "3.12.2"
  }
 },
 "nbformat": 4,
 "nbformat_minor": 5
}
